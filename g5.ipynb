{
 "cells": [
  {
   "cell_type": "markdown",
   "metadata": {},
   "source": [
    "https://www.kaggle.com/shrutimehta/nasa-asteroids-classification?select=Raw_Data_JSON"
   ]
  },
  {
   "cell_type": "markdown",
   "metadata": {},
   "source": [
    "Data Source: The data has been collected from the NASA Open API available here The data is about Asteroids - NeoWs NeoWs (Near Earth Object Web Service) is a RESTful web service for near earth Asteroid information. With NeoWs a user can: search for Asteroids based on their closest approach date to Earth, lookup a specific Asteroid with its NASA JPL small body id, as well as browse the overall data-set.\n",
    "\n",
    "Data-set: All the data is from the (http://neo.jpl.nasa.gov/). This API is maintained by SpaceRocks Team: David Greenfield, Arezu Sarvestani, Jason English and Peter Baunach.\n",
    "\n",
    "Dimension:4687*40\n",
    "\n",
    "Size:2.4 MB\n",
    "\n",
    "Data Types:\n",
    "\n",
    "Data Type Number of columns ID 2 Continuous 30 Categorical 2 DateTime 2 Nominal 1 Raw Data: API\n",
    "\n",
    "Transformed/Wrangled data: Comma Separated Values(.csv)"
   ]
  },
  {
   "cell_type": "markdown",
   "metadata": {},
   "source": [
    "---------------------------------------"
   ]
  },
  {
   "cell_type": "markdown",
   "metadata": {},
   "source": [
    "Los asteroides cercanos a la Tierra y de gran tamaño tienen el peligro potencial de causar la destrucción de áreas densamente pobladas. Las colisiones de asteroides peligrosos ocurre en promedio cada unos 200 o 300 años. Por esa razón, la IAU mantiene un registro de objetos que pueden llegar a colisionar con la Tierra. Actualmente se han identificado más de dos mil de estos objetos, aunque se estima que el número de objetos desconocidos podrı́a duplicar o triplicar esa cantidad. Resulta fundamental, entonces, distinguir los objetos potencialmente peligrosos de los que no lo son. Para eso se pueden usar cálculos detallados de mecánica celeste, o bien se pueden generar modelos empı́ricos que aprendan de los datos disponibles y adquieran la capacidad de clasificar nuevos objetos según su grado de peligrosidad.\n",
    "\n",
    "En este trabajo se propone clasificar objetos cercanos a la Tierra según sean peligrosos o no. Para ello, se usaran los datos del Center for Near Earth Object Studies (CNEOS) de la NASA, para construir modelos de aprendizaje supervisado capaces de llevar a cabo esta clasificación."
   ]
  },
  {
   "cell_type": "code",
   "execution_count": 1,
   "metadata": {},
   "outputs": [],
   "source": [
    "from jupyterthemes import jtplot\n",
    "jtplot.style(theme='monokai', context='notebook', ticks=True, grid=False)"
   ]
  },
  {
   "cell_type": "code",
   "execution_count": 2,
   "metadata": {},
   "outputs": [],
   "source": [
    "import numpy as np\n",
    "import pandas as pd\n",
    "\n",
    "import requests\n",
    "import json,os,datetime\n",
    "import csv\n",
    "from pandas import DataFrame\n",
    "from pprint import pprint\n",
    "import matplotlib.pyplot as plt\n",
    "import seaborn as sns \n",
    "%matplotlib inline\n",
    "import os"
   ]
  },
  {
   "cell_type": "markdown",
   "metadata": {},
   "source": [
    "# Lectura y preprocesamiento de datos"
   ]
  },
  {
   "cell_type": "markdown",
   "metadata": {},
   "source": [
    "Para empezar es necesario realizar un pre-procesamiento de datos en el cual se exploran y limpian. Esta parte es la más importante y costosa, ya que lo valioso son los datos pues el modelo aprenderá de ellos.\n",
    "\n",
    "Se leen los datos como un Data Frame de pandas, y en este caso las filas muestran los asteroides (datos) y las columnas a las características (features)."
   ]
  },
  {
   "cell_type": "code",
   "execution_count": 3,
   "metadata": {},
   "outputs": [],
   "source": [
    "data = pd.read_csv(\"nasa.csv\")"
   ]
  },
  {
   "cell_type": "code",
   "execution_count": 4,
   "metadata": {},
   "outputs": [
    {
     "data": {
      "text/html": [
       "<div>\n",
       "<style scoped>\n",
       "    .dataframe tbody tr th:only-of-type {\n",
       "        vertical-align: middle;\n",
       "    }\n",
       "\n",
       "    .dataframe tbody tr th {\n",
       "        vertical-align: top;\n",
       "    }\n",
       "\n",
       "    .dataframe thead th {\n",
       "        text-align: right;\n",
       "    }\n",
       "</style>\n",
       "<table border=\"1\" class=\"dataframe\">\n",
       "  <thead>\n",
       "    <tr style=\"text-align: right;\">\n",
       "      <th></th>\n",
       "      <th>Neo Reference ID</th>\n",
       "      <th>Name</th>\n",
       "      <th>Absolute Magnitude</th>\n",
       "      <th>Est Dia in KM(min)</th>\n",
       "      <th>Est Dia in KM(max)</th>\n",
       "      <th>Est Dia in M(min)</th>\n",
       "      <th>Est Dia in M(max)</th>\n",
       "      <th>Est Dia in Miles(min)</th>\n",
       "      <th>Est Dia in Miles(max)</th>\n",
       "      <th>Est Dia in Feet(min)</th>\n",
       "      <th>...</th>\n",
       "      <th>Asc Node Longitude</th>\n",
       "      <th>Orbital Period</th>\n",
       "      <th>Perihelion Distance</th>\n",
       "      <th>Perihelion Arg</th>\n",
       "      <th>Aphelion Dist</th>\n",
       "      <th>Perihelion Time</th>\n",
       "      <th>Mean Anomaly</th>\n",
       "      <th>Mean Motion</th>\n",
       "      <th>Equinox</th>\n",
       "      <th>Hazardous</th>\n",
       "    </tr>\n",
       "  </thead>\n",
       "  <tbody>\n",
       "    <tr>\n",
       "      <th>0</th>\n",
       "      <td>3703080</td>\n",
       "      <td>3703080</td>\n",
       "      <td>21.6</td>\n",
       "      <td>0.127220</td>\n",
       "      <td>0.284472</td>\n",
       "      <td>127.219879</td>\n",
       "      <td>284.472297</td>\n",
       "      <td>0.079051</td>\n",
       "      <td>0.176763</td>\n",
       "      <td>417.388066</td>\n",
       "      <td>...</td>\n",
       "      <td>314.373913</td>\n",
       "      <td>609.599786</td>\n",
       "      <td>0.808259</td>\n",
       "      <td>57.257470</td>\n",
       "      <td>2.005764</td>\n",
       "      <td>2.458162e+06</td>\n",
       "      <td>264.837533</td>\n",
       "      <td>0.590551</td>\n",
       "      <td>J2000</td>\n",
       "      <td>True</td>\n",
       "    </tr>\n",
       "    <tr>\n",
       "      <th>1</th>\n",
       "      <td>3723955</td>\n",
       "      <td>3723955</td>\n",
       "      <td>21.3</td>\n",
       "      <td>0.146068</td>\n",
       "      <td>0.326618</td>\n",
       "      <td>146.067964</td>\n",
       "      <td>326.617897</td>\n",
       "      <td>0.090762</td>\n",
       "      <td>0.202951</td>\n",
       "      <td>479.225620</td>\n",
       "      <td>...</td>\n",
       "      <td>136.717242</td>\n",
       "      <td>425.869294</td>\n",
       "      <td>0.718200</td>\n",
       "      <td>313.091975</td>\n",
       "      <td>1.497352</td>\n",
       "      <td>2.457795e+06</td>\n",
       "      <td>173.741112</td>\n",
       "      <td>0.845330</td>\n",
       "      <td>J2000</td>\n",
       "      <td>False</td>\n",
       "    </tr>\n",
       "    <tr>\n",
       "      <th>2</th>\n",
       "      <td>2446862</td>\n",
       "      <td>2446862</td>\n",
       "      <td>20.3</td>\n",
       "      <td>0.231502</td>\n",
       "      <td>0.517654</td>\n",
       "      <td>231.502122</td>\n",
       "      <td>517.654482</td>\n",
       "      <td>0.143849</td>\n",
       "      <td>0.321655</td>\n",
       "      <td>759.521423</td>\n",
       "      <td>...</td>\n",
       "      <td>259.475979</td>\n",
       "      <td>643.580228</td>\n",
       "      <td>0.950791</td>\n",
       "      <td>248.415038</td>\n",
       "      <td>1.966857</td>\n",
       "      <td>2.458120e+06</td>\n",
       "      <td>292.893654</td>\n",
       "      <td>0.559371</td>\n",
       "      <td>J2000</td>\n",
       "      <td>True</td>\n",
       "    </tr>\n",
       "    <tr>\n",
       "      <th>3</th>\n",
       "      <td>3092506</td>\n",
       "      <td>3092506</td>\n",
       "      <td>27.4</td>\n",
       "      <td>0.008801</td>\n",
       "      <td>0.019681</td>\n",
       "      <td>8.801465</td>\n",
       "      <td>19.680675</td>\n",
       "      <td>0.005469</td>\n",
       "      <td>0.012229</td>\n",
       "      <td>28.876199</td>\n",
       "      <td>...</td>\n",
       "      <td>57.173266</td>\n",
       "      <td>514.082140</td>\n",
       "      <td>0.983902</td>\n",
       "      <td>18.707701</td>\n",
       "      <td>1.527904</td>\n",
       "      <td>2.457902e+06</td>\n",
       "      <td>68.741007</td>\n",
       "      <td>0.700277</td>\n",
       "      <td>J2000</td>\n",
       "      <td>False</td>\n",
       "    </tr>\n",
       "    <tr>\n",
       "      <th>4</th>\n",
       "      <td>3514799</td>\n",
       "      <td>3514799</td>\n",
       "      <td>21.6</td>\n",
       "      <td>0.127220</td>\n",
       "      <td>0.284472</td>\n",
       "      <td>127.219879</td>\n",
       "      <td>284.472297</td>\n",
       "      <td>0.079051</td>\n",
       "      <td>0.176763</td>\n",
       "      <td>417.388066</td>\n",
       "      <td>...</td>\n",
       "      <td>84.629307</td>\n",
       "      <td>495.597821</td>\n",
       "      <td>0.967687</td>\n",
       "      <td>158.263596</td>\n",
       "      <td>1.483543</td>\n",
       "      <td>2.457814e+06</td>\n",
       "      <td>135.142133</td>\n",
       "      <td>0.726395</td>\n",
       "      <td>J2000</td>\n",
       "      <td>True</td>\n",
       "    </tr>\n",
       "  </tbody>\n",
       "</table>\n",
       "<p>5 rows × 40 columns</p>\n",
       "</div>"
      ],
      "text/plain": [
       "   Neo Reference ID     Name  Absolute Magnitude  Est Dia in KM(min)  \\\n",
       "0           3703080  3703080                21.6            0.127220   \n",
       "1           3723955  3723955                21.3            0.146068   \n",
       "2           2446862  2446862                20.3            0.231502   \n",
       "3           3092506  3092506                27.4            0.008801   \n",
       "4           3514799  3514799                21.6            0.127220   \n",
       "\n",
       "   Est Dia in KM(max)  Est Dia in M(min)  Est Dia in M(max)  \\\n",
       "0            0.284472         127.219879         284.472297   \n",
       "1            0.326618         146.067964         326.617897   \n",
       "2            0.517654         231.502122         517.654482   \n",
       "3            0.019681           8.801465          19.680675   \n",
       "4            0.284472         127.219879         284.472297   \n",
       "\n",
       "   Est Dia in Miles(min)  Est Dia in Miles(max)  Est Dia in Feet(min)  ...  \\\n",
       "0               0.079051               0.176763            417.388066  ...   \n",
       "1               0.090762               0.202951            479.225620  ...   \n",
       "2               0.143849               0.321655            759.521423  ...   \n",
       "3               0.005469               0.012229             28.876199  ...   \n",
       "4               0.079051               0.176763            417.388066  ...   \n",
       "\n",
       "   Asc Node Longitude Orbital Period  Perihelion Distance  Perihelion Arg  \\\n",
       "0          314.373913     609.599786             0.808259       57.257470   \n",
       "1          136.717242     425.869294             0.718200      313.091975   \n",
       "2          259.475979     643.580228             0.950791      248.415038   \n",
       "3           57.173266     514.082140             0.983902       18.707701   \n",
       "4           84.629307     495.597821             0.967687      158.263596   \n",
       "\n",
       "   Aphelion Dist  Perihelion Time  Mean Anomaly  Mean Motion  Equinox  \\\n",
       "0       2.005764     2.458162e+06    264.837533     0.590551    J2000   \n",
       "1       1.497352     2.457795e+06    173.741112     0.845330    J2000   \n",
       "2       1.966857     2.458120e+06    292.893654     0.559371    J2000   \n",
       "3       1.527904     2.457902e+06     68.741007     0.700277    J2000   \n",
       "4       1.483543     2.457814e+06    135.142133     0.726395    J2000   \n",
       "\n",
       "   Hazardous  \n",
       "0       True  \n",
       "1      False  \n",
       "2       True  \n",
       "3      False  \n",
       "4       True  \n",
       "\n",
       "[5 rows x 40 columns]"
      ]
     },
     "execution_count": 4,
     "metadata": {},
     "output_type": "execute_result"
    }
   ],
   "source": [
    "data.head() #muestra primeros 5 elementos"
   ]
  },
  {
   "cell_type": "code",
   "execution_count": 5,
   "metadata": {},
   "outputs": [
    {
     "data": {
      "text/plain": [
       "(4687, 40)"
      ]
     },
     "execution_count": 5,
     "metadata": {},
     "output_type": "execute_result"
    }
   ],
   "source": [
    "data.shape #número defilas y columnas"
   ]
  },
  {
   "cell_type": "markdown",
   "metadata": {},
   "source": [
    "Se ve que hay 4687 asteroides y 40 columnas."
   ]
  },
  {
   "cell_type": "code",
   "execution_count": 6,
   "metadata": {},
   "outputs": [
    {
     "data": {
      "text/plain": [
       "Index(['Neo Reference ID', 'Name', 'Absolute Magnitude', 'Est Dia in KM(min)',\n",
       "       'Est Dia in KM(max)', 'Est Dia in M(min)', 'Est Dia in M(max)',\n",
       "       'Est Dia in Miles(min)', 'Est Dia in Miles(max)',\n",
       "       'Est Dia in Feet(min)', 'Est Dia in Feet(max)', 'Close Approach Date',\n",
       "       'Epoch Date Close Approach', 'Relative Velocity km per sec',\n",
       "       'Relative Velocity km per hr', 'Miles per hour',\n",
       "       'Miss Dist.(Astronomical)', 'Miss Dist.(lunar)',\n",
       "       'Miss Dist.(kilometers)', 'Miss Dist.(miles)', 'Orbiting Body',\n",
       "       'Orbit ID', 'Orbit Determination Date', 'Orbit Uncertainity',\n",
       "       'Minimum Orbit Intersection', 'Jupiter Tisserand Invariant',\n",
       "       'Epoch Osculation', 'Eccentricity', 'Semi Major Axis', 'Inclination',\n",
       "       'Asc Node Longitude', 'Orbital Period', 'Perihelion Distance',\n",
       "       'Perihelion Arg', 'Aphelion Dist', 'Perihelion Time', 'Mean Anomaly',\n",
       "       'Mean Motion', 'Equinox', 'Hazardous'],\n",
       "      dtype='object')"
      ]
     },
     "execution_count": 6,
     "metadata": {},
     "output_type": "execute_result"
    }
   ],
   "source": [
    "data.keys() #nombre de columnas (también funciona con data.columns)"
   ]
  },
  {
   "cell_type": "markdown",
   "metadata": {},
   "source": [
    "Analizando las columnas se puede notar que 'Neo Reference ID', 'Name' y 'Orbit Determination Date' no aportan información importante sobre la peligrosidad de los asteroides. Además 'Est Dia (min/max)', 'Relative Velocity', 'Miss Dist.'  aparecen en distintas unidades por lo que resultan redundantes y deberían eliminarse, dejando alguna de las columnas en una sola unidad.\n",
    "\n",
    "Utilizando la función **unique()** se obtienen los valores únicos de alguna columna. Esto sirve para verificar los valores del equinoxio 'Equinox' y del cuerpo alrededor del que orbitan los asteroires 'Orbiting Body' que siempre son lo mismo, por lo que no dan información."
   ]
  },
  {
   "cell_type": "code",
   "execution_count": 7,
   "metadata": {},
   "outputs": [
    {
     "data": {
      "text/plain": [
       "array(['Earth'], dtype=object)"
      ]
     },
     "execution_count": 7,
     "metadata": {},
     "output_type": "execute_result"
    }
   ],
   "source": [
    "data['Orbiting Body'].unique()     #siempre es la tierra -> no da informacion"
   ]
  },
  {
   "cell_type": "code",
   "execution_count": 8,
   "metadata": {},
   "outputs": [
    {
     "data": {
      "text/plain": [
       "array(['J2000'], dtype=object)"
      ]
     },
     "execution_count": 8,
     "metadata": {},
     "output_type": "execute_result"
    }
   ],
   "source": [
    "data['Equinox'].unique()     #siempre lo mismo"
   ]
  },
  {
   "cell_type": "markdown",
   "metadata": {},
   "source": [
    "Para eliminar las columnas que no son informativas, se utiliza **\"drop\"**, con la opción 'inplace=True' para reescribir el data frame."
   ]
  },
  {
   "cell_type": "code",
   "execution_count": 9,
   "metadata": {},
   "outputs": [],
   "source": [
    "data.drop(columns=['Neo Reference ID','Equinox','Name','Orbiting Body',\n",
    "                   'Est Dia in M(min)', 'Est Dia in M(max)',\n",
    "           'Est Dia in Miles(min)', 'Est Dia in Miles(max)',\n",
    "           'Est Dia in Feet(min)', 'Est Dia in Feet(max)',\n",
    "           'Relative Velocity km per hr', 'Miles per hour',\n",
    "           'Miss Dist.(lunar)', 'Miss Dist.(kilometers)', 'Miss Dist.(miles)',\n",
    "           'Orbit Determination Date'], inplace=True)"
   ]
  },
  {
   "cell_type": "code",
   "execution_count": 10,
   "metadata": {},
   "outputs": [
    {
     "data": {
      "text/plain": [
       "(4687, 24)"
      ]
     },
     "execution_count": 10,
     "metadata": {},
     "output_type": "execute_result"
    }
   ],
   "source": [
    "data.shape #ahora hay 24 columnas"
   ]
  },
  {
   "cell_type": "markdown",
   "metadata": {},
   "source": [
    "Ahora se analiza la completitud de los datos, para ello se ve el largo de cada columna:"
   ]
  },
  {
   "cell_type": "code",
   "execution_count": 12,
   "metadata": {},
   "outputs": [
    {
     "name": "stdout",
     "output_type": "stream",
     "text": [
      "Length of column Absolute Magnitude= 4687\n",
      "Length of column Est Dia in KM(min)= 4687\n",
      "Length of column Est Dia in KM(max)= 4687\n",
      "Length of column Close Approach Date= 4687\n",
      "Length of column Epoch Date Close Approach= 4687\n",
      "Length of column Relative Velocity km per sec= 4687\n",
      "Length of column Miss Dist.(Astronomical)= 4687\n",
      "Length of column Orbit ID= 4687\n",
      "Length of column Orbit Uncertainity= 4687\n",
      "Length of column Minimum Orbit Intersection= 4687\n",
      "Length of column Jupiter Tisserand Invariant= 4687\n",
      "Length of column Epoch Osculation= 4687\n",
      "Length of column Eccentricity= 4687\n",
      "Length of column Semi Major Axis= 4687\n",
      "Length of column Inclination= 4687\n",
      "Length of column Asc Node Longitude= 4687\n",
      "Length of column Orbital Period= 4687\n",
      "Length of column Perihelion Distance= 4687\n",
      "Length of column Perihelion Arg= 4687\n",
      "Length of column Aphelion Dist= 4687\n",
      "Length of column Perihelion Time= 4687\n",
      "Length of column Mean Anomaly= 4687\n",
      "Length of column Mean Motion= 4687\n",
      "Length of column Hazardous= 4687\n"
     ]
    }
   ],
   "source": [
    "#largo de cada columna\n",
    "for col in data.columns:\n",
    "    print('Length of column'+\" \"+col+\"=\",len(data[col]))"
   ]
  },
  {
   "cell_type": "markdown",
   "metadata": {},
   "source": [
    "Todas las columnas tienen la misma cantidad de asteroides: 4687, por lo que los datos están completos."
   ]
  },
  {
   "cell_type": "markdown",
   "metadata": {},
   "source": [
    "Ahora se ve si alguno es Null:"
   ]
  },
  {
   "cell_type": "code",
   "execution_count": 13,
   "metadata": {},
   "outputs": [],
   "source": [
    "isnull = data.isnull() #devuelve una nueva tabla, dice si la celda es nula o no"
   ]
  },
  {
   "cell_type": "code",
   "execution_count": 14,
   "metadata": {},
   "outputs": [
    {
     "data": {
      "text/html": [
       "<div>\n",
       "<style scoped>\n",
       "    .dataframe tbody tr th:only-of-type {\n",
       "        vertical-align: middle;\n",
       "    }\n",
       "\n",
       "    .dataframe tbody tr th {\n",
       "        vertical-align: top;\n",
       "    }\n",
       "\n",
       "    .dataframe thead th {\n",
       "        text-align: right;\n",
       "    }\n",
       "</style>\n",
       "<table border=\"1\" class=\"dataframe\">\n",
       "  <thead>\n",
       "    <tr style=\"text-align: right;\">\n",
       "      <th></th>\n",
       "      <th>Absolute Magnitude</th>\n",
       "      <th>Est Dia in KM(min)</th>\n",
       "      <th>Est Dia in KM(max)</th>\n",
       "      <th>Close Approach Date</th>\n",
       "      <th>Epoch Date Close Approach</th>\n",
       "      <th>Relative Velocity km per sec</th>\n",
       "      <th>Miss Dist.(Astronomical)</th>\n",
       "      <th>Orbit ID</th>\n",
       "      <th>Orbit Uncertainity</th>\n",
       "      <th>Minimum Orbit Intersection</th>\n",
       "      <th>...</th>\n",
       "      <th>Inclination</th>\n",
       "      <th>Asc Node Longitude</th>\n",
       "      <th>Orbital Period</th>\n",
       "      <th>Perihelion Distance</th>\n",
       "      <th>Perihelion Arg</th>\n",
       "      <th>Aphelion Dist</th>\n",
       "      <th>Perihelion Time</th>\n",
       "      <th>Mean Anomaly</th>\n",
       "      <th>Mean Motion</th>\n",
       "      <th>Hazardous</th>\n",
       "    </tr>\n",
       "  </thead>\n",
       "  <tbody>\n",
       "    <tr>\n",
       "      <th>0</th>\n",
       "      <td>False</td>\n",
       "      <td>False</td>\n",
       "      <td>False</td>\n",
       "      <td>False</td>\n",
       "      <td>False</td>\n",
       "      <td>False</td>\n",
       "      <td>False</td>\n",
       "      <td>False</td>\n",
       "      <td>False</td>\n",
       "      <td>False</td>\n",
       "      <td>...</td>\n",
       "      <td>False</td>\n",
       "      <td>False</td>\n",
       "      <td>False</td>\n",
       "      <td>False</td>\n",
       "      <td>False</td>\n",
       "      <td>False</td>\n",
       "      <td>False</td>\n",
       "      <td>False</td>\n",
       "      <td>False</td>\n",
       "      <td>False</td>\n",
       "    </tr>\n",
       "    <tr>\n",
       "      <th>1</th>\n",
       "      <td>False</td>\n",
       "      <td>False</td>\n",
       "      <td>False</td>\n",
       "      <td>False</td>\n",
       "      <td>False</td>\n",
       "      <td>False</td>\n",
       "      <td>False</td>\n",
       "      <td>False</td>\n",
       "      <td>False</td>\n",
       "      <td>False</td>\n",
       "      <td>...</td>\n",
       "      <td>False</td>\n",
       "      <td>False</td>\n",
       "      <td>False</td>\n",
       "      <td>False</td>\n",
       "      <td>False</td>\n",
       "      <td>False</td>\n",
       "      <td>False</td>\n",
       "      <td>False</td>\n",
       "      <td>False</td>\n",
       "      <td>False</td>\n",
       "    </tr>\n",
       "    <tr>\n",
       "      <th>2</th>\n",
       "      <td>False</td>\n",
       "      <td>False</td>\n",
       "      <td>False</td>\n",
       "      <td>False</td>\n",
       "      <td>False</td>\n",
       "      <td>False</td>\n",
       "      <td>False</td>\n",
       "      <td>False</td>\n",
       "      <td>False</td>\n",
       "      <td>False</td>\n",
       "      <td>...</td>\n",
       "      <td>False</td>\n",
       "      <td>False</td>\n",
       "      <td>False</td>\n",
       "      <td>False</td>\n",
       "      <td>False</td>\n",
       "      <td>False</td>\n",
       "      <td>False</td>\n",
       "      <td>False</td>\n",
       "      <td>False</td>\n",
       "      <td>False</td>\n",
       "    </tr>\n",
       "    <tr>\n",
       "      <th>3</th>\n",
       "      <td>False</td>\n",
       "      <td>False</td>\n",
       "      <td>False</td>\n",
       "      <td>False</td>\n",
       "      <td>False</td>\n",
       "      <td>False</td>\n",
       "      <td>False</td>\n",
       "      <td>False</td>\n",
       "      <td>False</td>\n",
       "      <td>False</td>\n",
       "      <td>...</td>\n",
       "      <td>False</td>\n",
       "      <td>False</td>\n",
       "      <td>False</td>\n",
       "      <td>False</td>\n",
       "      <td>False</td>\n",
       "      <td>False</td>\n",
       "      <td>False</td>\n",
       "      <td>False</td>\n",
       "      <td>False</td>\n",
       "      <td>False</td>\n",
       "    </tr>\n",
       "    <tr>\n",
       "      <th>4</th>\n",
       "      <td>False</td>\n",
       "      <td>False</td>\n",
       "      <td>False</td>\n",
       "      <td>False</td>\n",
       "      <td>False</td>\n",
       "      <td>False</td>\n",
       "      <td>False</td>\n",
       "      <td>False</td>\n",
       "      <td>False</td>\n",
       "      <td>False</td>\n",
       "      <td>...</td>\n",
       "      <td>False</td>\n",
       "      <td>False</td>\n",
       "      <td>False</td>\n",
       "      <td>False</td>\n",
       "      <td>False</td>\n",
       "      <td>False</td>\n",
       "      <td>False</td>\n",
       "      <td>False</td>\n",
       "      <td>False</td>\n",
       "      <td>False</td>\n",
       "    </tr>\n",
       "  </tbody>\n",
       "</table>\n",
       "<p>5 rows × 24 columns</p>\n",
       "</div>"
      ],
      "text/plain": [
       "   Absolute Magnitude  Est Dia in KM(min)  Est Dia in KM(max)  \\\n",
       "0               False               False               False   \n",
       "1               False               False               False   \n",
       "2               False               False               False   \n",
       "3               False               False               False   \n",
       "4               False               False               False   \n",
       "\n",
       "   Close Approach Date  Epoch Date Close Approach  \\\n",
       "0                False                      False   \n",
       "1                False                      False   \n",
       "2                False                      False   \n",
       "3                False                      False   \n",
       "4                False                      False   \n",
       "\n",
       "   Relative Velocity km per sec  Miss Dist.(Astronomical)  Orbit ID  \\\n",
       "0                         False                     False     False   \n",
       "1                         False                     False     False   \n",
       "2                         False                     False     False   \n",
       "3                         False                     False     False   \n",
       "4                         False                     False     False   \n",
       "\n",
       "   Orbit Uncertainity  Minimum Orbit Intersection  ...  Inclination  \\\n",
       "0               False                       False  ...        False   \n",
       "1               False                       False  ...        False   \n",
       "2               False                       False  ...        False   \n",
       "3               False                       False  ...        False   \n",
       "4               False                       False  ...        False   \n",
       "\n",
       "   Asc Node Longitude  Orbital Period  Perihelion Distance  Perihelion Arg  \\\n",
       "0               False           False                False           False   \n",
       "1               False           False                False           False   \n",
       "2               False           False                False           False   \n",
       "3               False           False                False           False   \n",
       "4               False           False                False           False   \n",
       "\n",
       "   Aphelion Dist  Perihelion Time  Mean Anomaly  Mean Motion  Hazardous  \n",
       "0          False            False         False        False      False  \n",
       "1          False            False         False        False      False  \n",
       "2          False            False         False        False      False  \n",
       "3          False            False         False        False      False  \n",
       "4          False            False         False        False      False  \n",
       "\n",
       "[5 rows x 24 columns]"
      ]
     },
     "execution_count": 14,
     "metadata": {},
     "output_type": "execute_result"
    }
   ],
   "source": [
    "isnull.head()"
   ]
  },
  {
   "cell_type": "markdown",
   "metadata": {},
   "source": [
    "Si es falso significa que no es null (tiene un valor).\n",
    "Para verificar si todos ellos tienen Nulls, se cuenta cuántos hay por cada columna:"
   ]
  },
  {
   "cell_type": "code",
   "execution_count": 15,
   "metadata": {},
   "outputs": [
    {
     "name": "stdout",
     "output_type": "stream",
     "text": [
      "Number of NULLS:  Absolute Magnitude= 0\n",
      "Number of NULLS:  Est Dia in KM(min)= 0\n",
      "Number of NULLS:  Est Dia in KM(max)= 0\n",
      "Number of NULLS:  Close Approach Date= 0\n",
      "Number of NULLS:  Epoch Date Close Approach= 0\n",
      "Number of NULLS:  Relative Velocity km per sec= 0\n",
      "Number of NULLS:  Miss Dist.(Astronomical)= 0\n",
      "Number of NULLS:  Orbit ID= 0\n",
      "Number of NULLS:  Orbit Uncertainity= 0\n",
      "Number of NULLS:  Minimum Orbit Intersection= 0\n",
      "Number of NULLS:  Jupiter Tisserand Invariant= 0\n",
      "Number of NULLS:  Epoch Osculation= 0\n",
      "Number of NULLS:  Eccentricity= 0\n",
      "Number of NULLS:  Semi Major Axis= 0\n",
      "Number of NULLS:  Inclination= 0\n",
      "Number of NULLS:  Asc Node Longitude= 0\n",
      "Number of NULLS:  Orbital Period= 0\n",
      "Number of NULLS:  Perihelion Distance= 0\n",
      "Number of NULLS:  Perihelion Arg= 0\n",
      "Number of NULLS:  Aphelion Dist= 0\n",
      "Number of NULLS:  Perihelion Time= 0\n",
      "Number of NULLS:  Mean Anomaly= 0\n",
      "Number of NULLS:  Mean Motion= 0\n",
      "Number of NULLS:  Hazardous= 0\n"
     ]
    }
   ],
   "source": [
    "for col in isnull.columns:\n",
    "    print('Number of NULLS: '+\" \"+col+\"=\",sum(isnull[col]))"
   ]
  },
  {
   "cell_type": "markdown",
   "metadata": {},
   "source": [
    "Todas tienen cero nulls.\n",
    "Por lo que se vió que los datos no tienen faltantes ni incompletitudes."
   ]
  },
  {
   "cell_type": "markdown",
   "metadata": {},
   "source": [
    "Se ve que tipo de dato hay en cada columna:"
   ]
  },
  {
   "cell_type": "code",
   "execution_count": 16,
   "metadata": {},
   "outputs": [
    {
     "name": "stdout",
     "output_type": "stream",
     "text": [
      "<class 'pandas.core.frame.DataFrame'>\n",
      "RangeIndex: 4687 entries, 0 to 4686\n",
      "Data columns (total 24 columns):\n",
      " #   Column                        Non-Null Count  Dtype  \n",
      "---  ------                        --------------  -----  \n",
      " 0   Absolute Magnitude            4687 non-null   float64\n",
      " 1   Est Dia in KM(min)            4687 non-null   float64\n",
      " 2   Est Dia in KM(max)            4687 non-null   float64\n",
      " 3   Close Approach Date           4687 non-null   object \n",
      " 4   Epoch Date Close Approach     4687 non-null   int64  \n",
      " 5   Relative Velocity km per sec  4687 non-null   float64\n",
      " 6   Miss Dist.(Astronomical)      4687 non-null   float64\n",
      " 7   Orbit ID                      4687 non-null   int64  \n",
      " 8   Orbit Uncertainity            4687 non-null   int64  \n",
      " 9   Minimum Orbit Intersection    4687 non-null   float64\n",
      " 10  Jupiter Tisserand Invariant   4687 non-null   float64\n",
      " 11  Epoch Osculation              4687 non-null   float64\n",
      " 12  Eccentricity                  4687 non-null   float64\n",
      " 13  Semi Major Axis               4687 non-null   float64\n",
      " 14  Inclination                   4687 non-null   float64\n",
      " 15  Asc Node Longitude            4687 non-null   float64\n",
      " 16  Orbital Period                4687 non-null   float64\n",
      " 17  Perihelion Distance           4687 non-null   float64\n",
      " 18  Perihelion Arg                4687 non-null   float64\n",
      " 19  Aphelion Dist                 4687 non-null   float64\n",
      " 20  Perihelion Time               4687 non-null   float64\n",
      " 21  Mean Anomaly                  4687 non-null   float64\n",
      " 22  Mean Motion                   4687 non-null   float64\n",
      " 23  Hazardous                     4687 non-null   bool   \n",
      "dtypes: bool(1), float64(19), int64(3), object(1)\n",
      "memory usage: 846.9+ KB\n"
     ]
    }
   ],
   "source": [
    "data.info()"
   ]
  },
  {
   "cell_type": "markdown",
   "metadata": {},
   "source": [
    "Se nota que 'Close Approach Date' es de tipo object: devuelve un string (entre comillas), no es una fecha ni un numero, sino un texto."
   ]
  },
  {
   "cell_type": "code",
   "execution_count": 17,
   "metadata": {},
   "outputs": [
    {
     "data": {
      "text/plain": [
       "'1995-01-01'"
      ]
     },
     "execution_count": 17,
     "metadata": {},
     "output_type": "execute_result"
    }
   ],
   "source": [
    "data['Close Approach Date'][0] "
   ]
  },
  {
   "cell_type": "markdown",
   "metadata": {},
   "source": [
    "Se utiliza 'datetime' para transformarlo en un número entero que indique la diferencia entre el día de la fecha y un día de referencia: 1 de enero de 1950: "
   ]
  },
  {
   "cell_type": "code",
   "execution_count": 18,
   "metadata": {},
   "outputs": [],
   "source": [
    "from datetime import datetime \n",
    "ref = datetime.strptime('1950-01-01', '%Y-%m-%d') #le doy un string y le enseño el formato para que lo separe y convierta en días\n",
    "dates = []\n",
    "for d in data['Close Approach Date']:\n",
    "    day = datetime.strptime(d, '%Y-%m-%d')\n",
    "    dif = (day - ref).days          #cantidad de días respecto de un día de referencia (ref)\n",
    "    dates.append(dif)"
   ]
  },
  {
   "cell_type": "code",
   "execution_count": 19,
   "metadata": {},
   "outputs": [
    {
     "data": {
      "text/plain": [
       "16436"
      ]
     },
     "execution_count": 19,
     "metadata": {},
     "output_type": "execute_result"
    }
   ],
   "source": [
    "dates[0] "
   ]
  },
  {
   "cell_type": "code",
   "execution_count": 20,
   "metadata": {},
   "outputs": [],
   "source": [
    "data['Close Approach Date'] = dates #enteros que me dicen la cantidad de dias que pasaron desde 1-enero-1950"
   ]
  },
  {
   "cell_type": "markdown",
   "metadata": {},
   "source": [
    "Al volver a preguntar que tipo de dato es:"
   ]
  },
  {
   "cell_type": "code",
   "execution_count": 21,
   "metadata": {},
   "outputs": [
    {
     "name": "stdout",
     "output_type": "stream",
     "text": [
      "<class 'pandas.core.frame.DataFrame'>\n",
      "RangeIndex: 4687 entries, 0 to 4686\n",
      "Data columns (total 24 columns):\n",
      " #   Column                        Non-Null Count  Dtype  \n",
      "---  ------                        --------------  -----  \n",
      " 0   Absolute Magnitude            4687 non-null   float64\n",
      " 1   Est Dia in KM(min)            4687 non-null   float64\n",
      " 2   Est Dia in KM(max)            4687 non-null   float64\n",
      " 3   Close Approach Date           4687 non-null   int64  \n",
      " 4   Epoch Date Close Approach     4687 non-null   int64  \n",
      " 5   Relative Velocity km per sec  4687 non-null   float64\n",
      " 6   Miss Dist.(Astronomical)      4687 non-null   float64\n",
      " 7   Orbit ID                      4687 non-null   int64  \n",
      " 8   Orbit Uncertainity            4687 non-null   int64  \n",
      " 9   Minimum Orbit Intersection    4687 non-null   float64\n",
      " 10  Jupiter Tisserand Invariant   4687 non-null   float64\n",
      " 11  Epoch Osculation              4687 non-null   float64\n",
      " 12  Eccentricity                  4687 non-null   float64\n",
      " 13  Semi Major Axis               4687 non-null   float64\n",
      " 14  Inclination                   4687 non-null   float64\n",
      " 15  Asc Node Longitude            4687 non-null   float64\n",
      " 16  Orbital Period                4687 non-null   float64\n",
      " 17  Perihelion Distance           4687 non-null   float64\n",
      " 18  Perihelion Arg                4687 non-null   float64\n",
      " 19  Aphelion Dist                 4687 non-null   float64\n",
      " 20  Perihelion Time               4687 non-null   float64\n",
      " 21  Mean Anomaly                  4687 non-null   float64\n",
      " 22  Mean Motion                   4687 non-null   float64\n",
      " 23  Hazardous                     4687 non-null   bool   \n",
      "dtypes: bool(1), float64(19), int64(4)\n",
      "memory usage: 846.9 KB\n"
     ]
    }
   ],
   "source": [
    "data.info()"
   ]
  },
  {
   "cell_type": "markdown",
   "metadata": {},
   "source": [
    "Se que ahora todos los datos son enteros o de punto flotante (menos la última columna)."
   ]
  },
  {
   "cell_type": "markdown",
   "metadata": {},
   "source": [
    "Se ven los rangos de los datos:"
   ]
  },
  {
   "cell_type": "code",
   "execution_count": 22,
   "metadata": {},
   "outputs": [
    {
     "data": {
      "text/html": [
       "<div>\n",
       "<style scoped>\n",
       "    .dataframe tbody tr th:only-of-type {\n",
       "        vertical-align: middle;\n",
       "    }\n",
       "\n",
       "    .dataframe tbody tr th {\n",
       "        vertical-align: top;\n",
       "    }\n",
       "\n",
       "    .dataframe thead th {\n",
       "        text-align: right;\n",
       "    }\n",
       "</style>\n",
       "<table border=\"1\" class=\"dataframe\">\n",
       "  <thead>\n",
       "    <tr style=\"text-align: right;\">\n",
       "      <th></th>\n",
       "      <th>Absolute Magnitude</th>\n",
       "      <th>Est Dia in KM(min)</th>\n",
       "      <th>Est Dia in KM(max)</th>\n",
       "      <th>Close Approach Date</th>\n",
       "      <th>Epoch Date Close Approach</th>\n",
       "      <th>Relative Velocity km per sec</th>\n",
       "      <th>Miss Dist.(Astronomical)</th>\n",
       "      <th>Orbit ID</th>\n",
       "      <th>Orbit Uncertainity</th>\n",
       "      <th>Minimum Orbit Intersection</th>\n",
       "      <th>...</th>\n",
       "      <th>Semi Major Axis</th>\n",
       "      <th>Inclination</th>\n",
       "      <th>Asc Node Longitude</th>\n",
       "      <th>Orbital Period</th>\n",
       "      <th>Perihelion Distance</th>\n",
       "      <th>Perihelion Arg</th>\n",
       "      <th>Aphelion Dist</th>\n",
       "      <th>Perihelion Time</th>\n",
       "      <th>Mean Anomaly</th>\n",
       "      <th>Mean Motion</th>\n",
       "    </tr>\n",
       "  </thead>\n",
       "  <tbody>\n",
       "    <tr>\n",
       "      <th>count</th>\n",
       "      <td>4687.000000</td>\n",
       "      <td>4687.000000</td>\n",
       "      <td>4687.000000</td>\n",
       "      <td>4687.000000</td>\n",
       "      <td>4.687000e+03</td>\n",
       "      <td>4687.000000</td>\n",
       "      <td>4687.000000</td>\n",
       "      <td>4687.000000</td>\n",
       "      <td>4687.000000</td>\n",
       "      <td>4687.000000</td>\n",
       "      <td>...</td>\n",
       "      <td>4687.000000</td>\n",
       "      <td>4687.000000</td>\n",
       "      <td>4687.000000</td>\n",
       "      <td>4687.000000</td>\n",
       "      <td>4687.000000</td>\n",
       "      <td>4687.000000</td>\n",
       "      <td>4687.000000</td>\n",
       "      <td>4.687000e+03</td>\n",
       "      <td>4687.000000</td>\n",
       "      <td>4687.000000</td>\n",
       "    </tr>\n",
       "    <tr>\n",
       "      <th>mean</th>\n",
       "      <td>22.267865</td>\n",
       "      <td>0.204604</td>\n",
       "      <td>0.457509</td>\n",
       "      <td>20960.717303</td>\n",
       "      <td>1.179881e+12</td>\n",
       "      <td>13.970811</td>\n",
       "      <td>0.256778</td>\n",
       "      <td>28.300619</td>\n",
       "      <td>3.516962</td>\n",
       "      <td>0.082320</td>\n",
       "      <td>...</td>\n",
       "      <td>1.400264</td>\n",
       "      <td>13.373844</td>\n",
       "      <td>172.157275</td>\n",
       "      <td>635.582076</td>\n",
       "      <td>0.813383</td>\n",
       "      <td>183.932151</td>\n",
       "      <td>1.987144</td>\n",
       "      <td>2.457728e+06</td>\n",
       "      <td>181.167927</td>\n",
       "      <td>0.738242</td>\n",
       "    </tr>\n",
       "    <tr>\n",
       "      <th>std</th>\n",
       "      <td>2.890972</td>\n",
       "      <td>0.369573</td>\n",
       "      <td>0.826391</td>\n",
       "      <td>2293.449636</td>\n",
       "      <td>1.981540e+11</td>\n",
       "      <td>7.293223</td>\n",
       "      <td>0.145798</td>\n",
       "      <td>38.299668</td>\n",
       "      <td>3.078307</td>\n",
       "      <td>0.090300</td>\n",
       "      <td>...</td>\n",
       "      <td>0.524154</td>\n",
       "      <td>10.936227</td>\n",
       "      <td>103.276777</td>\n",
       "      <td>370.954727</td>\n",
       "      <td>0.242059</td>\n",
       "      <td>103.513035</td>\n",
       "      <td>0.951519</td>\n",
       "      <td>9.442264e+02</td>\n",
       "      <td>107.501623</td>\n",
       "      <td>0.342627</td>\n",
       "    </tr>\n",
       "    <tr>\n",
       "      <th>min</th>\n",
       "      <td>11.160000</td>\n",
       "      <td>0.001011</td>\n",
       "      <td>0.002260</td>\n",
       "      <td>16436.000000</td>\n",
       "      <td>7.889472e+11</td>\n",
       "      <td>0.335504</td>\n",
       "      <td>0.000178</td>\n",
       "      <td>1.000000</td>\n",
       "      <td>0.000000</td>\n",
       "      <td>0.000002</td>\n",
       "      <td>...</td>\n",
       "      <td>0.615920</td>\n",
       "      <td>0.014513</td>\n",
       "      <td>0.001941</td>\n",
       "      <td>176.557161</td>\n",
       "      <td>0.080744</td>\n",
       "      <td>0.006918</td>\n",
       "      <td>0.803765</td>\n",
       "      <td>2.450100e+06</td>\n",
       "      <td>0.003191</td>\n",
       "      <td>0.086285</td>\n",
       "    </tr>\n",
       "    <tr>\n",
       "      <th>25%</th>\n",
       "      <td>20.100000</td>\n",
       "      <td>0.033462</td>\n",
       "      <td>0.074824</td>\n",
       "      <td>19059.000000</td>\n",
       "      <td>1.015574e+12</td>\n",
       "      <td>8.432865</td>\n",
       "      <td>0.133420</td>\n",
       "      <td>9.000000</td>\n",
       "      <td>0.000000</td>\n",
       "      <td>0.014585</td>\n",
       "      <td>...</td>\n",
       "      <td>1.000635</td>\n",
       "      <td>4.962341</td>\n",
       "      <td>83.081208</td>\n",
       "      <td>365.605031</td>\n",
       "      <td>0.630834</td>\n",
       "      <td>95.625916</td>\n",
       "      <td>1.266059</td>\n",
       "      <td>2.457815e+06</td>\n",
       "      <td>87.006918</td>\n",
       "      <td>0.453289</td>\n",
       "    </tr>\n",
       "    <tr>\n",
       "      <th>50%</th>\n",
       "      <td>21.900000</td>\n",
       "      <td>0.110804</td>\n",
       "      <td>0.247765</td>\n",
       "      <td>21229.000000</td>\n",
       "      <td>1.203062e+12</td>\n",
       "      <td>12.917889</td>\n",
       "      <td>0.265029</td>\n",
       "      <td>16.000000</td>\n",
       "      <td>3.000000</td>\n",
       "      <td>0.047365</td>\n",
       "      <td>...</td>\n",
       "      <td>1.240981</td>\n",
       "      <td>10.311836</td>\n",
       "      <td>172.625393</td>\n",
       "      <td>504.947292</td>\n",
       "      <td>0.833153</td>\n",
       "      <td>189.761641</td>\n",
       "      <td>1.618195</td>\n",
       "      <td>2.457973e+06</td>\n",
       "      <td>185.718889</td>\n",
       "      <td>0.712946</td>\n",
       "    </tr>\n",
       "    <tr>\n",
       "      <th>75%</th>\n",
       "      <td>24.500000</td>\n",
       "      <td>0.253837</td>\n",
       "      <td>0.567597</td>\n",
       "      <td>22994.000000</td>\n",
       "      <td>1.355558e+12</td>\n",
       "      <td>18.077649</td>\n",
       "      <td>0.384154</td>\n",
       "      <td>31.000000</td>\n",
       "      <td>6.000000</td>\n",
       "      <td>0.123593</td>\n",
       "      <td>...</td>\n",
       "      <td>1.678364</td>\n",
       "      <td>19.511681</td>\n",
       "      <td>255.026909</td>\n",
       "      <td>794.195972</td>\n",
       "      <td>0.997227</td>\n",
       "      <td>271.777557</td>\n",
       "      <td>2.451171</td>\n",
       "      <td>2.458108e+06</td>\n",
       "      <td>276.531946</td>\n",
       "      <td>0.984669</td>\n",
       "    </tr>\n",
       "    <tr>\n",
       "      <th>max</th>\n",
       "      <td>32.100000</td>\n",
       "      <td>15.579552</td>\n",
       "      <td>34.836938</td>\n",
       "      <td>24357.000000</td>\n",
       "      <td>1.473318e+12</td>\n",
       "      <td>44.633747</td>\n",
       "      <td>0.499884</td>\n",
       "      <td>611.000000</td>\n",
       "      <td>9.000000</td>\n",
       "      <td>0.477891</td>\n",
       "      <td>...</td>\n",
       "      <td>5.072008</td>\n",
       "      <td>75.406667</td>\n",
       "      <td>359.905890</td>\n",
       "      <td>4172.231343</td>\n",
       "      <td>1.299832</td>\n",
       "      <td>359.993098</td>\n",
       "      <td>8.983852</td>\n",
       "      <td>2.458839e+06</td>\n",
       "      <td>359.917991</td>\n",
       "      <td>2.039000</td>\n",
       "    </tr>\n",
       "  </tbody>\n",
       "</table>\n",
       "<p>8 rows × 23 columns</p>\n",
       "</div>"
      ],
      "text/plain": [
       "       Absolute Magnitude  Est Dia in KM(min)  Est Dia in KM(max)  \\\n",
       "count         4687.000000         4687.000000         4687.000000   \n",
       "mean            22.267865            0.204604            0.457509   \n",
       "std              2.890972            0.369573            0.826391   \n",
       "min             11.160000            0.001011            0.002260   \n",
       "25%             20.100000            0.033462            0.074824   \n",
       "50%             21.900000            0.110804            0.247765   \n",
       "75%             24.500000            0.253837            0.567597   \n",
       "max             32.100000           15.579552           34.836938   \n",
       "\n",
       "       Close Approach Date  Epoch Date Close Approach  \\\n",
       "count          4687.000000               4.687000e+03   \n",
       "mean          20960.717303               1.179881e+12   \n",
       "std            2293.449636               1.981540e+11   \n",
       "min           16436.000000               7.889472e+11   \n",
       "25%           19059.000000               1.015574e+12   \n",
       "50%           21229.000000               1.203062e+12   \n",
       "75%           22994.000000               1.355558e+12   \n",
       "max           24357.000000               1.473318e+12   \n",
       "\n",
       "       Relative Velocity km per sec  Miss Dist.(Astronomical)     Orbit ID  \\\n",
       "count                   4687.000000               4687.000000  4687.000000   \n",
       "mean                      13.970811                  0.256778    28.300619   \n",
       "std                        7.293223                  0.145798    38.299668   \n",
       "min                        0.335504                  0.000178     1.000000   \n",
       "25%                        8.432865                  0.133420     9.000000   \n",
       "50%                       12.917889                  0.265029    16.000000   \n",
       "75%                       18.077649                  0.384154    31.000000   \n",
       "max                       44.633747                  0.499884   611.000000   \n",
       "\n",
       "       Orbit Uncertainity  Minimum Orbit Intersection  ...  Semi Major Axis  \\\n",
       "count         4687.000000                 4687.000000  ...      4687.000000   \n",
       "mean             3.516962                    0.082320  ...         1.400264   \n",
       "std              3.078307                    0.090300  ...         0.524154   \n",
       "min              0.000000                    0.000002  ...         0.615920   \n",
       "25%              0.000000                    0.014585  ...         1.000635   \n",
       "50%              3.000000                    0.047365  ...         1.240981   \n",
       "75%              6.000000                    0.123593  ...         1.678364   \n",
       "max              9.000000                    0.477891  ...         5.072008   \n",
       "\n",
       "       Inclination  Asc Node Longitude  Orbital Period  Perihelion Distance  \\\n",
       "count  4687.000000         4687.000000     4687.000000          4687.000000   \n",
       "mean     13.373844          172.157275      635.582076             0.813383   \n",
       "std      10.936227          103.276777      370.954727             0.242059   \n",
       "min       0.014513            0.001941      176.557161             0.080744   \n",
       "25%       4.962341           83.081208      365.605031             0.630834   \n",
       "50%      10.311836          172.625393      504.947292             0.833153   \n",
       "75%      19.511681          255.026909      794.195972             0.997227   \n",
       "max      75.406667          359.905890     4172.231343             1.299832   \n",
       "\n",
       "       Perihelion Arg  Aphelion Dist  Perihelion Time  Mean Anomaly  \\\n",
       "count     4687.000000    4687.000000     4.687000e+03   4687.000000   \n",
       "mean       183.932151       1.987144     2.457728e+06    181.167927   \n",
       "std        103.513035       0.951519     9.442264e+02    107.501623   \n",
       "min          0.006918       0.803765     2.450100e+06      0.003191   \n",
       "25%         95.625916       1.266059     2.457815e+06     87.006918   \n",
       "50%        189.761641       1.618195     2.457973e+06    185.718889   \n",
       "75%        271.777557       2.451171     2.458108e+06    276.531946   \n",
       "max        359.993098       8.983852     2.458839e+06    359.917991   \n",
       "\n",
       "       Mean Motion  \n",
       "count  4687.000000  \n",
       "mean      0.738242  \n",
       "std       0.342627  \n",
       "min       0.086285  \n",
       "25%       0.453289  \n",
       "50%       0.712946  \n",
       "75%       0.984669  \n",
       "max       2.039000  \n",
       "\n",
       "[8 rows x 23 columns]"
      ]
     },
     "execution_count": 22,
     "metadata": {},
     "output_type": "execute_result"
    }
   ],
   "source": [
    "data.describe()"
   ]
  },
  {
   "cell_type": "markdown",
   "metadata": {},
   "source": [
    "Ahora se analiza si está balanceada la muestra de asteroides peligrosos y no peligrosos. Para ello se utiliza la colunna 'Hazardous' que tiene valores True (peligroso) y False (no peligroso)."
   ]
  },
  {
   "cell_type": "code",
   "execution_count": 23,
   "metadata": {},
   "outputs": [
    {
     "data": {
      "text/plain": [
       "array([ True, False,  True, ..., False, False, False])"
      ]
     },
     "execution_count": 23,
     "metadata": {},
     "output_type": "execute_result"
    }
   ],
   "source": [
    "data['Hazardous'].values"
   ]
  },
  {
   "cell_type": "code",
   "execution_count": 24,
   "metadata": {},
   "outputs": [
    {
     "name": "stdout",
     "output_type": "stream",
     "text": [
      "Number of hazardous asteroids: 755\n",
      "Number of non-hazardous asteroids: 3932\n"
     ]
    }
   ],
   "source": [
    "print(f\"Number of hazardous asteroids: {sum(data['Hazardous'].values == True)}\")\n",
    "print(f\"Number of non-hazardous asteroids: {sum(data['Hazardous'].values == False)}\")"
   ]
  },
  {
   "cell_type": "markdown",
   "metadata": {},
   "source": [
    "Se puede ver que hay muchos más asteroides no peligrosos que peligrosos. Esto hay que tenerlo en cuenta para aplicar los algoritmos de machine learning."
   ]
  },
  {
   "cell_type": "markdown",
   "metadata": {},
   "source": [
    "Otra cosa que se puede hacer para conocer los datos es graficar histogramas de los distintos features, separando los peligrosos de los que no lo son."
   ]
  },
  {
   "cell_type": "code",
   "execution_count": 25,
   "metadata": {},
   "outputs": [],
   "source": [
    "h = (data['Hazardous'].values == True) #peligrosos"
   ]
  },
  {
   "cell_type": "markdown",
   "metadata": {},
   "source": [
    "- Magnitud absoluta"
   ]
  },
  {
   "cell_type": "code",
   "execution_count": 26,
   "metadata": {},
   "outputs": [
    {
     "data": {
      "text/plain": [
       "Text(0, 0.5, 'dN/dM')"
      ]
     },
     "execution_count": 26,
     "metadata": {},
     "output_type": "execute_result"
    },
    {
     "data": {
      "image/png": "[encoded data removed]",
      "text/plain": [
       "<Figure size 1152x432 with 2 Axes>"
      ]
     },
     "metadata": {
      "needs_background": "dark"
     },
     "output_type": "display_data"
    }
   ],
   "source": [
    "#version sin normalizar y normalizada\n",
    "fig = plt.figure(figsize=(16, 6))\n",
    "fig.clf()\n",
    "ax = fig.subplots(1,2)\n",
    "\n",
    "ax[0].hist(data['Absolute Magnitude'][h], label='hazardous',  #subconjunto de la magnitud absoluta que tenga h true\n",
    "           histtype='step', color='lightsalmon', linewidth=2)\n",
    "ax[0].hist(data['Absolute Magnitude'][~h], label='safe',      #no h es V --> h es falso\n",
    "           histtype='step', color='deepskyblue', linewidth=2)\n",
    "ax[0].legend()\n",
    "ax[0].set_xlabel('Absolute Magnitude, M')\n",
    "ax[0].set_ylabel('dN/dM')\n",
    "\n",
    "ax[1].hist(data['Absolute Magnitude'][h], label='hazardous',\n",
    "           histtype='step', density=True, color='lightsalmon', linewidth=2)        #normalizados\n",
    "ax[1].hist(data['Absolute Magnitude'][~h], label='safe',\n",
    "           density=True, histtype='step', color='deepskyblue', linewidth=2)\n",
    "ax[1].legend()\n",
    "ax[1].set_xlabel('Absolute Magnitude, M')\n",
    "ax[1].set_ylabel('dN/dM')"
   ]
  },
  {
   "cell_type": "markdown",
   "metadata": {},
   "source": [
    "Se ve que si M>23 aprox, siempre los asteroides son no peligrosos."
   ]
  },
  {
   "cell_type": "markdown",
   "metadata": {},
   "source": [
    "- Diametro estimado"
   ]
  },
  {
   "cell_type": "markdown",
   "metadata": {},
   "source": [
    "Se analiza como se comporta el diámetro estimado (min) y (max):"
   ]
  },
  {
   "cell_type": "code",
   "execution_count": 27,
   "metadata": {},
   "outputs": [
    {
     "data": {
      "text/plain": [
       "0       0.447214\n",
       "1       0.447214\n",
       "2       0.447214\n",
       "3       0.447214\n",
       "4       0.447214\n",
       "          ...   \n",
       "4682    0.447214\n",
       "4683    0.447214\n",
       "4684    0.447214\n",
       "4685    0.447214\n",
       "4686    0.447214\n",
       "Length: 4687, dtype: float64"
      ]
     },
     "execution_count": 27,
     "metadata": {},
     "output_type": "execute_result"
    }
   ],
   "source": [
    "data['Est Dia in KM(min)'] / data['Est Dia in KM(max)']"
   ]
  },
  {
   "cell_type": "markdown",
   "metadata": {},
   "source": [
    "El cociente entre max y min siempre es el mismo número, por lo que no es un intervalo de confianza sino que es un rango fijo. Esto también es redundante, se puede eliminar cualquiera de los 2. Se elimina el max:"
   ]
  },
  {
   "cell_type": "code",
   "execution_count": 28,
   "metadata": {},
   "outputs": [],
   "source": [
    "data.drop(columns=['Est Dia in KM(max)'], inplace=True) #queda el mínimo"
   ]
  },
  {
   "cell_type": "code",
   "execution_count": 29,
   "metadata": {},
   "outputs": [
    {
     "data": {
      "text/plain": [
       "(4687, 23)"
      ]
     },
     "execution_count": 29,
     "metadata": {},
     "output_type": "execute_result"
    }
   ],
   "source": [
    "data.shape"
   ]
  },
  {
   "cell_type": "code",
   "execution_count": 30,
   "metadata": {},
   "outputs": [
    {
     "data": {
      "text/plain": [
       "Text(0, 0.5, 'dN/dd')"
      ]
     },
     "execution_count": 30,
     "metadata": {},
     "output_type": "execute_result"
    },
    {
     "data": {
      "image/png": "[encoded data removed]",
      "text/plain": [
       "<Figure size 1152x432 with 2 Axes>"
      ]
     },
     "metadata": {
      "needs_background": "dark"
     },
     "output_type": "display_data"
    }
   ],
   "source": [
    "fig = plt.figure(figsize=(16, 6))\n",
    "fig.clf()\n",
    "ax = fig.subplots(1,2)\n",
    "\n",
    "field = 'Est Dia in KM(min)'\n",
    "b = np.linspace(0, 1.5, 50)\n",
    "ax[0].hist(data[field][h], label='hazardous', histtype='step', bins=b,   #evaluado en h\n",
    "                    color='lightsalmon', linewidth=2)\n",
    "ax[0].hist(data[field][~h], label='safe', histtype='step', bins=b,       #evaluado en no h\n",
    "                    color='deepskyblue', linewidth=2)\n",
    "\n",
    "ax[0].legend()\n",
    "ax[0].set_xlabel(field)\n",
    "ax[0].set_ylabel('dN/dd')\n",
    "\n",
    "ax[1].hist(data[field][h], label='hazardous', histtype='step', bins=b, density=True,\n",
    "           color='lightsalmon', linewidth=2)\n",
    "ax[1].hist(data[field][~h], label='safe', histtype='step', bins=b, density=True,\n",
    "           color='deepskyblue', linewidth=2)\n",
    "ax[1].legend()\n",
    "ax[1].set_xlabel(field)\n",
    "ax[1].set_ylabel('dN/dd')"
   ]
  },
  {
   "cell_type": "markdown",
   "metadata": {},
   "source": [
    "Ahora ya no es fácil separar con un valor uno que no es peligroso de uno que si"
   ]
  },
  {
   "cell_type": "markdown",
   "metadata": {},
   "source": [
    "- Velocidad relativa en km/s"
   ]
  },
  {
   "cell_type": "code",
   "execution_count": 31,
   "metadata": {},
   "outputs": [
    {
     "data": {
      "text/plain": [
       "Text(0, 0.5, 'dN/dd')"
      ]
     },
     "execution_count": 31,
     "metadata": {},
     "output_type": "execute_result"
    },
    {
     "data": {
      "image/png": "[encoded data removed]",
      "text/plain": [
       "<Figure size 1152x432 with 2 Axes>"
      ]
     },
     "metadata": {
      "needs_background": "dark"
     },
     "output_type": "display_data"
    }
   ],
   "source": [
    "fig = plt.figure(figsize=(16, 6))\n",
    "fig.clf()\n",
    "ax = fig.subplots(1,2)\n",
    "\n",
    "field = 'Relative Velocity km per sec'\n",
    "b = np.linspace(0, 45, 45)\n",
    "ax[0].hist(data[field][h], label='hazardous', histtype='step', bins=b,   #evaluado en h\n",
    "                    color='lightsalmon', linewidth=2)\n",
    "ax[0].hist(data[field][~h], label='safe', histtype='step', bins=b,       #evaluado en no h\n",
    "                    color='deepskyblue', linewidth=2)\n",
    "\n",
    "ax[0].legend()\n",
    "ax[0].set_xlabel(field)\n",
    "ax[0].set_ylabel('dN/dd')\n",
    "\n",
    "ax[1].hist(data[field][h], label='hazardous', histtype='step', bins=b, density=True,\n",
    "           color='lightsalmon', linewidth=2)\n",
    "ax[1].hist(data[field][~h], label='safe', histtype='step', bins=b, density=True,\n",
    "           color='deepskyblue', linewidth=2)\n",
    "ax[1].legend()\n",
    "ax[1].set_xlabel(field)\n",
    "ax[1].set_ylabel('dN/dd')"
   ]
  },
  {
   "cell_type": "markdown",
   "metadata": {},
   "source": [
    "Tampoco es obvio que hay un valor que separa peligrosos de no peligrosos."
   ]
  },
  {
   "cell_type": "markdown",
   "metadata": {},
   "source": [
    "- Miss Dist"
   ]
  },
  {
   "cell_type": "code",
   "execution_count": 32,
   "metadata": {},
   "outputs": [
    {
     "data": {
      "text/plain": [
       "Text(0, 0.5, 'dN/dd')"
      ]
     },
     "execution_count": 32,
     "metadata": {},
     "output_type": "execute_result"
    },
    {
     "data": {
      "image/png": "[encoded data removed]",
      "text/plain": [
       "<Figure size 432x288 with 1 Axes>"
      ]
     },
     "metadata": {
      "needs_background": "dark"
     },
     "output_type": "display_data"
    }
   ],
   "source": [
    "field = 'Miss Dist.(Astronomical)'  #no sabe qué es\n",
    "b = np.linspace(0, 0.5, 60)\n",
    "plt.hist(data[field][h], label='hazardous', histtype='step', bins=b,\n",
    "         color='lightsalmon', linewidth=2)\n",
    "plt.hist(data[field][~h], label='safe', histtype='step', bins=b,\n",
    "         color='deepskyblue', linewidth=2)\n",
    "plt.legend()\n",
    "plt.xlabel(field)\n",
    "plt.ylabel('dN/dd')"
   ]
  },
  {
   "cell_type": "markdown",
   "metadata": {},
   "source": [
    "No hay diferencia entre las dos clases"
   ]
  },
  {
   "cell_type": "markdown",
   "metadata": {},
   "source": [
    "- Intersección mínima de la órbita"
   ]
  },
  {
   "cell_type": "code",
   "execution_count": 33,
   "metadata": {},
   "outputs": [
    {
     "data": {
      "text/plain": [
       "Text(0, 0.5, 'dN/dd')"
      ]
     },
     "execution_count": 33,
     "metadata": {},
     "output_type": "execute_result"
    },
    {
     "data": {
      "image/png": "[encoded data removed]",
      "text/plain": [
       "<Figure size 1152x432 with 2 Axes>"
      ]
     },
     "metadata": {
      "needs_background": "dark"
     },
     "output_type": "display_data"
    }
   ],
   "source": [
    "fig = plt.figure(figsize=(16, 6))\n",
    "fig.clf()\n",
    "ax = fig.subplots(1,2)\n",
    "\n",
    "field = 'Minimum Orbit Intersection'\n",
    "b = np.linspace(0, 0.5, 100)\n",
    "ax[0].hist(data[field][h], label='hazardous', histtype='step', bins=b,\n",
    "           color='lightsalmon', linewidth=2)\n",
    "ax[0].hist(data[field][~h], label='safe', histtype='step', bins=b,\n",
    "           color='deepskyblue', linewidth=2)\n",
    "ax[0].legend()\n",
    "ax[0].set_xlabel(field)\n",
    "ax[0].set_ylabel('dN/dd')\n",
    "\n",
    "ax[1].hist(data[field][h], label='hazardous', histtype='step', bins=b, density=True,\n",
    "           color='lightsalmon', linewidth=2)\n",
    "ax[1].hist(data[field][~h], label='safe', histtype='step', bins=b, density=True,\n",
    "           color='deepskyblue', linewidth=2)\n",
    "ax[1].legend()\n",
    "ax[1].set_xlabel(field)\n",
    "ax[1].set_ylabel('dN/dd')"
   ]
  },
  {
   "cell_type": "markdown",
   "metadata": {},
   "source": [
    "Se puede proponer un valor para el cual es fácil distinguir los que no son peligrosos de los que si. Si un valor es mayor que cierto valor fijo (aprox 0.5) uno puede estar seguro que es no peligroso."
   ]
  },
  {
   "cell_type": "markdown",
   "metadata": {},
   "source": [
    "- Inclinación"
   ]
  },
  {
   "cell_type": "code",
   "execution_count": 34,
   "metadata": {},
   "outputs": [
    {
     "data": {
      "text/plain": [
       "Text(0, 0.5, 'dN/dd')"
      ]
     },
     "execution_count": 34,
     "metadata": {},
     "output_type": "execute_result"
    },
    {
     "data": {
      "image/png": "[encoded data removed]",
      "text/plain": [
       "<Figure size 1152x432 with 2 Axes>"
      ]
     },
     "metadata": {
      "needs_background": "dark"
     },
     "output_type": "display_data"
    }
   ],
   "source": [
    "fig = plt.figure(figsize=(16, 6))\n",
    "fig.clf()\n",
    "ax = fig.subplots(1,2)\n",
    "\n",
    "field = 'Inclination'\n",
    "b = np.linspace(0, 70, 100)\n",
    "ax[0].hist(data[field][h], label='hazardous', histtype='step', bins=b,\n",
    "           color='lightsalmon', linewidth=2)\n",
    "ax[0].hist(data[field][~h], label='safe', histtype='step', bins=b,\n",
    "           color='deepskyblue', linewidth=2)\n",
    "ax[0].legend()\n",
    "ax[0].set_xlabel(field)\n",
    "ax[0].set_ylabel('dN/dd')\n",
    "\n",
    "ax[1].hist(data[field][h], label='hazardous', histtype='step', bins=b, density=True,\n",
    "           color='lightsalmon', linewidth=2)\n",
    "ax[1].hist(data[field][~h], label='safe', histtype='step', bins=b, density=True,\n",
    "           color='deepskyblue', linewidth=2)\n",
    "ax[1].legend()\n",
    "ax[1].set_xlabel(field)\n",
    "ax[1].set_ylabel('dN/dd')\n"
   ]
  },
  {
   "cell_type": "markdown",
   "metadata": {},
   "source": [
    "- Período orbital"
   ]
  },
  {
   "cell_type": "code",
   "execution_count": 35,
   "metadata": {},
   "outputs": [
    {
     "data": {
      "text/plain": [
       "Text(0, 0.5, '1/N dN/dd')"
      ]
     },
     "execution_count": 35,
     "metadata": {},
     "output_type": "execute_result"
    },
    {
     "data": {
      "image/png": "[encoded data removed]",
      "text/plain": [
       "<Figure size 1152x432 with 2 Axes>"
      ]
     },
     "metadata": {
      "needs_background": "dark"
     },
     "output_type": "display_data"
    }
   ],
   "source": [
    "fig = plt.figure(figsize=(16, 6))\n",
    "fig.clf()\n",
    "ax = fig.subplots(1,2)\n",
    "\n",
    "field = 'Orbital Period'\n",
    "b = np.linspace(0, 2000, 100)\n",
    "ax[0].hist(data[field][h], label='hazardous', histtype='step', bins=b,\n",
    "           color='lightsalmon', linewidth=2)\n",
    "ax[0].hist(data[field][~h], label='safe', histtype='step', bins=b,\n",
    "           color='deepskyblue', linewidth=2)\n",
    "ax[0].legend()\n",
    "ax[0].set_xlabel(field)\n",
    "ax[0].set_ylabel('dN/dd')\n",
    "\n",
    "ax[1].hist(data[field][h], label='hazardous', histtype='step', bins=b, density=True,\n",
    "           color='lightsalmon', linewidth=2)\n",
    "ax[1].hist(data[field][~h], label='safe', histtype='step', bins=b, density=True,\n",
    "           color='deepskyblue', linewidth=2)\n",
    "ax[1].legend()\n",
    "ax[1].set_xlabel(field)\n",
    "ax[1].set_ylabel('1/N dN/dd')"
   ]
  },
  {
   "cell_type": "markdown",
   "metadata": {},
   "source": [
    "\n"
   ]
  },
  {
   "cell_type": "markdown",
   "metadata": {},
   "source": [
    "Otros gráficos que se pueden hacer:"
   ]
  },
  {
   "cell_type": "markdown",
   "metadata": {},
   "source": [
    "- Magnitud vs intersección mínima orbital"
   ]
  },
  {
   "cell_type": "markdown",
   "metadata": {},
   "source": [
    "Se los grafica en la misma escala para poder comparar."
   ]
  },
  {
   "cell_type": "code",
   "execution_count": 36,
   "metadata": {},
   "outputs": [
    {
     "data": {
      "text/plain": [
       "Text(0.5, 1.0, 'SAFE')"
      ]
     },
     "execution_count": 36,
     "metadata": {},
     "output_type": "execute_result"
    },
    {
     "data": {
      "image/png": "[encoded data removed]",
      "text/plain": [
       "<Figure size 1152x432 with 2 Axes>"
      ]
     },
     "metadata": {
      "needs_background": "dark"
     },
     "output_type": "display_data"
    }
   ],
   "source": [
    "fig = plt.figure(figsize=(16, 6))\n",
    "fig.clf()\n",
    "ax = fig.subplots(1,2)\n",
    "\n",
    "ax[0].scatter(data['Absolute Magnitude'][h], data['Minimum Orbit Intersection'][h], color='lightsalmon')\n",
    "ax[0].set_xlabel('Absolute Magnitude')\n",
    "ax[0].set_ylabel('Minimum Orbit Intersection')\n",
    "ax[0].set_xlim(14,30)\n",
    "ax[0].set_ylim(0,0.5)\n",
    "ax[0].set_title('HAZARDOUS')\n",
    "\n",
    "ax[1].scatter(data['Absolute Magnitude'][~h], data['Minimum Orbit Intersection'][~h], color='deepskyblue')\n",
    "ax[1].set_xlabel('Absolute Magnitude')\n",
    "ax[1].set_ylabel('Minimum Orbit Intersection')\n",
    "ax[1].set_xlim(14,30)\n",
    "ax[1].set_ylim(0,0.5)\n",
    "ax[1].set_title('SAFE')"
   ]
  },
  {
   "cell_type": "markdown",
   "metadata": {},
   "source": [
    "Estos parámetros resultan muy útiles para distinguir asteroides peligrosos de no peligrosos. Se puede tomar un criterio en el cual si un asteroide cae en el cuadradito es peligroso y si cae afuera no."
   ]
  },
  {
   "cell_type": "markdown",
   "metadata": {},
   "source": [
    "- Diámetro estimado vs intersección mínima orbital"
   ]
  },
  {
   "cell_type": "code",
   "execution_count": 37,
   "metadata": {},
   "outputs": [
    {
     "data": {
      "text/plain": [
       "Text(0.5, 1.0, 'SAFE')"
      ]
     },
     "execution_count": 37,
     "metadata": {},
     "output_type": "execute_result"
    },
    {
     "data": {
      "image/png": "[encoded data removed]",
      "text/plain": [
       "<Figure size 1152x432 with 2 Axes>"
      ]
     },
     "metadata": {
      "needs_background": "dark"
     },
     "output_type": "display_data"
    }
   ],
   "source": [
    "fig = plt.figure(figsize=(16, 6))\n",
    "fig.clf()\n",
    "ax = fig.subplots(1,2)\n",
    "\n",
    "ax[0].scatter(data['Est Dia in KM(min)'][h], data['Minimum Orbit Intersection'][h], color='lightsalmon')   #evalua en h\n",
    "ax[0].set_xlabel('Est Dia in KM(min)')\n",
    "ax[0].set_ylabel('Minimum Orbit Intersection')\n",
    "ax[0].set_xlim(0, 2)\n",
    "ax[0].set_ylim(0, 0.5)\n",
    "ax[0].set_title('HAZARDOUS')\n",
    "\n",
    "ax[1].scatter(data['Est Dia in KM(min)'][~h], data['Minimum Orbit Intersection'][~h], color='deepskyblue')   #evalua en no h\n",
    "ax[1].set_xlabel('Est Dia in KM(min)')\n",
    "ax[1].set_ylabel('Minimum Orbit Intersection')\n",
    "ax[1].set_xlim(0, 2)\n",
    "ax[1].set_ylim(0, 0.5)\n",
    "ax[1].set_title('SAFE')"
   ]
  },
  {
   "cell_type": "markdown",
   "metadata": {},
   "source": [
    "\n"
   ]
  },
  {
   "cell_type": "markdown",
   "metadata": {},
   "source": [
    "Con el análisis anterior se puede ver que los distintos features influyen de distintas formas en la clasificación de los asteroides, algunos en mayor medida que otros. Para saber cual de ellos tiene mayor importancia se propone en la sección siguiente realizar una reducción de dimensionalidad.\n",
    "\n",
    "Sin embargo, cabe destacar que solamente analizando el problema físico y los datos, se logró limpiar los datos bastante, pasando de 40 columnas a 23. Se guarda estos datos limpios en un archivo:"
   ]
  },
  {
   "cell_type": "code",
   "execution_count": 38,
   "metadata": {},
   "outputs": [],
   "source": [
    "data.to_csv('clean_data.csv', index=False)"
   ]
  },
  {
   "cell_type": "code",
   "execution_count": 39,
   "metadata": {},
   "outputs": [
    {
     "data": {
      "text/plain": [
       "(4687, 23)"
      ]
     },
     "execution_count": 39,
     "metadata": {},
     "output_type": "execute_result"
    }
   ],
   "source": [
    "data.shape #Se tienen 4687 asteroides y 23 columnas"
   ]
  },
  {
   "cell_type": "markdown",
   "metadata": {},
   "source": [
    "\n"
   ]
  },
  {
   "cell_type": "markdown",
   "metadata": {},
   "source": [
    "# Reducción de dimensionalidad"
   ]
  },
  {
   "cell_type": "markdown",
   "metadata": {},
   "source": [
    "Cuando el número de dimensiones es muy grande algunos algoritmos pueden funcionar mal. Conviene, antes de usarlos, reducir la dimensionalidad como en este caso.\n",
    "\n",
    "Si deseamos reducir la cantidad de features (es decir, la cantidad de ejes) que se utilizan para describir estos datos (para una representación más compacta), entonces se pueden rotar los ejes para alinearlos con esta correlación. Cualquier rotación conserva el orden relativo o la configuración de los datos, por lo que se elige una rotación para maximizar la capacidad de discriminar entre los puntos de datos. Esto se logra si la rotación maximiza la varianza a lo largo de los ejes resultantes (es decir, definiendo el primer eje para que sea la dirección con varianza máxima, el segundo cortogonal al primero que maximiza la varianza residual, y así). Esta técnica de reducción de dimensionalidad se conoce como análisis de componentes principales (PCA). \n",
    "\n",
    " PCA es una transformación lineal, basada en la rotacion en el espacio de dimensiones, aplicada a datos multivariados, que define un conjunto de ejes no correlacionados ordenados por la varianza de cada nuevo eje.\n",
    " \n",
    "En este trabajo se va a aplicar PCA para reducir la dimensionalidad usando el paquete 'decomposition' de sklearn. El módulo incluye algoritmos de descomposición matricial, como PCA, NMF o ICA. PCA se implementa como un objeto transformador que aprende componentes en su método 'fit' y se puede usar en nuevos datos para proyectarlos en estos componentes."
   ]
  },
  {
   "cell_type": "markdown",
   "metadata": {},
   "source": [
    "Para empezar hay que realizar la separación entre los features y las etiquetas. La columna 'Hazardous' que se vió en data es la etiqueta y se debe sacar para la clasificación."
   ]
  },
  {
   "cell_type": "code",
   "execution_count": 40,
   "metadata": {},
   "outputs": [],
   "source": [
    "labels = np.array(data['Hazardous']) #etiqueta"
   ]
  },
  {
   "cell_type": "code",
   "execution_count": 41,
   "metadata": {},
   "outputs": [
    {
     "data": {
      "text/plain": [
       "array([ True, False,  True, ..., False, False, False])"
      ]
     },
     "execution_count": 41,
     "metadata": {},
     "output_type": "execute_result"
    }
   ],
   "source": [
    "labels"
   ]
  },
  {
   "cell_type": "markdown",
   "metadata": {},
   "source": [
    "Se transforma a una variable numérica: se define 'y' que tiene lo mismo que 'labels' pero lo que antes era False y True se convierte en 0 y 1 respectivamente:"
   ]
  },
  {
   "cell_type": "code",
   "execution_count": 42,
   "metadata": {},
   "outputs": [],
   "source": [
    "y = [1 if L else 0 for L in labels]"
   ]
  },
  {
   "cell_type": "markdown",
   "metadata": {},
   "source": [
    "Se define la nueva variable X de los features sin la columna 'Hazardous'. Así data mantiene la etiqueta pero X no:"
   ]
  },
  {
   "cell_type": "code",
   "execution_count": 43,
   "metadata": {},
   "outputs": [],
   "source": [
    "X = data.drop(columns=['Hazardous'])"
   ]
  },
  {
   "cell_type": "code",
   "execution_count": 44,
   "metadata": {},
   "outputs": [
    {
     "data": {
      "text/plain": [
       "(4687, 22)"
      ]
     },
     "execution_count": 44,
     "metadata": {},
     "output_type": "execute_result"
    }
   ],
   "source": [
    "X.shape"
   ]
  },
  {
   "cell_type": "markdown",
   "metadata": {},
   "source": [
    "PCA:"
   ]
  },
  {
   "cell_type": "code",
   "execution_count": 45,
   "metadata": {},
   "outputs": [
    {
     "name": "stdout",
     "output_type": "stream",
     "text": [
      "Varianzas: [1.]\n"
     ]
    }
   ],
   "source": [
    "from sklearn import decomposition\n",
    "pca = decomposition.PCA(n_components=1)  #se queda con las n coordenadas mas importantes\n",
    "pca.fit(X)                               #le paso los datos- entrenamiento\n",
    "print('Varianzas:', pca.explained_variance_ratio_)  \n",
    "R = pca.transform(X)                     #se aplica"
   ]
  },
  {
   "cell_type": "markdown",
   "metadata": {},
   "source": [
    "En la línea del print se ve un valor representivo para la varianza de cada feature. Mientras más grande el número, más importante es el nuevo feature. Los nuevos features están ordenados en importancia.\n",
    "\n",
    "Se probaron con varios valores de n_components pero siempre el primer feature daba 1 mientras que el resto valores muy cercanos a 0 (orden e-17). Con un solo feature practicamente se explica casi toda la variación en el espacio de features, por eso se toma n_components=1.\n",
    "\n",
    "R es el resultado de aplicar PCA, se obtiene un nuevo conjunto de datos pero con menos dimensiones, solamente 1 feature contra los 22 iniciales."
   ]
  },
  {
   "cell_type": "code",
   "execution_count": 46,
   "metadata": {},
   "outputs": [
    {
     "data": {
      "text/plain": [
       "array([[ 3.90933384e+11],\n",
       "       [ 3.90933384e+11],\n",
       "       [ 3.90328584e+11],\n",
       "       ...,\n",
       "       [-2.93437416e+11],\n",
       "       [-2.93437416e+11],\n",
       "       [-2.93437416e+11]])"
      ]
     },
     "execution_count": 46,
     "metadata": {},
     "output_type": "execute_result"
    }
   ],
   "source": [
    "R"
   ]
  },
  {
   "cell_type": "code",
   "execution_count": 47,
   "metadata": {},
   "outputs": [
    {
     "data": {
      "text/plain": [
       "(4687, 1)"
      ]
     },
     "execution_count": 47,
     "metadata": {},
     "output_type": "execute_result"
    }
   ],
   "source": [
    "R.shape  #numero de asteroides x nuevos features"
   ]
  },
  {
   "cell_type": "markdown",
   "metadata": {},
   "source": [
    "Si bien se redujo la dimensión, ya no se tienen los features originales sino uno nuevo que es alguna combinación lineal de los originales, por lo que se sacrificó interpretabilidad,"
   ]
  },
  {
   "cell_type": "markdown",
   "metadata": {},
   "source": [
    "\n"
   ]
  },
  {
   "cell_type": "markdown",
   "metadata": {},
   "source": [
    "# Random Forest Regression"
   ]
  },
  {
   "cell_type": "markdown",
   "metadata": {},
   "source": [
    "Para la clasificación de los asteroides se utiliza el algoritmo de Random Forest, que es un método de aprendizaje para clasificación, regresión y otras tareas que operan mediante la construcción de una multitud de árboles de decisión con su respectivo entrenamiento y dando salida a la clasificación promedio de los árboles individuales.\n",
    "\n",
    "Como ya se tienen los features y las etiquetas por separado, se arman los conjuntos de datos de entrenamiento y test tanto para los features como para las etiquetas. Primero se realiza con los features originales (X) y luego con los features nuevos después de la reducción de dimensionalidad.\n",
    "\n",
    "Para conocer cómo el algoritmo clasifica los puntos de datos se utilizan métricas para tener una medida de qué tan bien funciona el clasificador. Se realizará el cálculo de la \"accuracy\" del algoritmo (número de verdaderos positivos y verdaderos negativos dividido por el número de verdaderos positivos, verdaderos negativos, falsos positivos y falsos negativos) y se mostrará la curva ROC."
   ]
  },
  {
   "cell_type": "markdown",
   "metadata": {},
   "source": [
    "- Features originales (X)"
   ]
  },
  {
   "cell_type": "code",
   "execution_count": 48,
   "metadata": {},
   "outputs": [
    {
     "name": "stdout",
     "output_type": "stream",
     "text": [
      "(1172, 22)\n",
      "(3515, 22)\n",
      "(4687, 22)\n"
     ]
    }
   ],
   "source": [
    "from sklearn.model_selection import train_test_split\n",
    "\n",
    "res = train_test_split(X, y, test_size = 0.25, random_state = 42)\n",
    "train_features, test_features, train_labels, test_labels = res\n",
    "\n",
    "print(test_features.shape) #25% del total\n",
    "print(train_features.shape)\n",
    "print(X.shape)"
   ]
  },
  {
   "cell_type": "code",
   "execution_count": 49,
   "metadata": {},
   "outputs": [],
   "source": [
    "from sklearn.ensemble import RandomForestRegressor\n",
    "rf = RandomForestRegressor(n_estimators = 100, random_state = 42) #clasificador\n",
    "rf.fit(train_features, train_labels)    #entrenamiento\n",
    "predictions = rf.predict(test_features) #predicción"
   ]
  },
  {
   "cell_type": "code",
   "execution_count": 50,
   "metadata": {},
   "outputs": [
    {
     "data": {
      "text/plain": [
       "array([1., 0., 1., ..., 0., 0., 0.])"
      ]
     },
     "execution_count": 50,
     "metadata": {},
     "output_type": "execute_result"
    }
   ],
   "source": [
    "predictions"
   ]
  },
  {
   "cell_type": "code",
   "execution_count": 51,
   "metadata": {},
   "outputs": [
    {
     "name": "stdout",
     "output_type": "stream",
     "text": [
      "Accuracy= 0.9718430034129693\n"
     ]
    }
   ],
   "source": [
    "#accuracy\n",
    "errors = abs(predictions - test_labels)\n",
    "#los VP y VN van a tener un error aprox a cero, y el total es la muestra 'test'\n",
    "print('Accuracy=', np.sum(errors < 1.e-5)/ len(test_labels))"
   ]
  },
  {
   "cell_type": "code",
   "execution_count": 52,
   "metadata": {},
   "outputs": [
    {
     "data": {
      "image/png": "[encoded data removed]",
      "text/plain": [
       "<Figure size 432x288 with 1 Axes>"
      ]
     },
     "metadata": {
      "needs_background": "dark"
     },
     "output_type": "display_data"
    }
   ],
   "source": [
    "#curva ROC\n",
    "from sklearn.metrics import roc_curve\n",
    "a, b, c = roc_curve(test_labels, predictions)\n",
    "plt.scatter(a, b)\n",
    "plt.title('Curva ROC')\n",
    "plt.xlabel('Razón de falsos positivos')\n",
    "plt.ylabel('Razón de verdaderos positivos')\n",
    "plt.show()"
   ]
  },
  {
   "cell_type": "markdown",
   "metadata": {},
   "source": [
    "Se encuentra que el algoritmo tiene una alta accuracy, cercana a 1, y la curva ROC da muy bien."
   ]
  },
  {
   "cell_type": "markdown",
   "metadata": {},
   "source": [
    "- Features luego de reducir la dimensiolidad (R)"
   ]
  },
  {
   "cell_type": "code",
   "execution_count": 53,
   "metadata": {},
   "outputs": [
    {
     "data": {
      "text/plain": [
       "(4687, 1)"
      ]
     },
     "execution_count": 53,
     "metadata": {},
     "output_type": "execute_result"
    }
   ],
   "source": [
    "R.shape"
   ]
  },
  {
   "cell_type": "code",
   "execution_count": 54,
   "metadata": {},
   "outputs": [
    {
     "name": "stdout",
     "output_type": "stream",
     "text": [
      "(1172, 1)\n",
      "(3515, 1)\n",
      "(4687, 1)\n"
     ]
    }
   ],
   "source": [
    "res2 = train_test_split(R, y, test_size = 0.25, random_state = 42)\n",
    "train_features2, test_features2, train_labels2, test_labels2 = res2\n",
    "\n",
    "print(test_features2.shape)\n",
    "print(train_features2.shape)\n",
    "print(R.shape)"
   ]
  },
  {
   "cell_type": "code",
   "execution_count": 55,
   "metadata": {},
   "outputs": [],
   "source": [
    "rf2 = RandomForestRegressor(n_estimators = 100, random_state = 42)\n",
    "rf2.fit(train_features2, train_labels2)\n",
    "predictions2 = rf2.predict(test_features2)"
   ]
  },
  {
   "cell_type": "code",
   "execution_count": 56,
   "metadata": {},
   "outputs": [
    {
     "name": "stdout",
     "output_type": "stream",
     "text": [
      "Accuracy= 0.27986348122866894\n"
     ]
    }
   ],
   "source": [
    "#accuracy\n",
    "errors2 = abs(predictions2 - test_labels2)\n",
    "print('Accuracy=', np.sum(errors2 < 1.e-5)/ len(test_labels2))"
   ]
  },
  {
   "cell_type": "code",
   "execution_count": 57,
   "metadata": {},
   "outputs": [
    {
     "data": {
      "image/png": "[encoded data removed]",
      "text/plain": [
       "<Figure size 432x288 with 1 Axes>"
      ]
     },
     "metadata": {
      "needs_background": "dark"
     },
     "output_type": "display_data"
    }
   ],
   "source": [
    "#curva ROC\n",
    "a2, b2, c2 = roc_curve(test_labels2, predictions2)\n",
    "plt.scatter(a2, b2)\n",
    "plt.title('Curva ROC')\n",
    "plt.xlabel('Razón de falsos positivos')\n",
    "plt.ylabel('Razón de verdaderos positivos')\n",
    "plt.show()"
   ]
  },
  {
   "cell_type": "markdown",
   "metadata": {},
   "source": [
    "Para este caso se encuentra que el algoritmo pierde capacidad de clasificación, esto puede ser por que al disminuir las dimensiones y quedarse con las de mayor dispersión puede coincidir con los features que permiten clasificar."
   ]
  },
  {
   "cell_type": "markdown",
   "metadata": {},
   "source": [
    "\n"
   ]
  },
  {
   "cell_type": "markdown",
   "metadata": {},
   "source": [
    "## Conclusiones\n",
    "\n",
    "En este trabajo se aplica todo lo aprendido en la materia Astrometría para clasificar objetos cercanos a la Tierra según sean peligrosos o no. Para llevar a cabo esta clasificación se busca construir modelos de aprendizaje supervisado. Pero antes de ello, se debe realizar otras tareas, como un pre-procesamiento de los datos para limpiarlos, conocerlos y tratar de disminuir dimensiones, y en el caso de que aún queden muchos features realizar una reducción de dimensionalidad, a costa de perder interpretabilidad de los datos. \n",
    "\n",
    "En este caso se aplicó la reducción de dimensionalidad con PCA reduciendo el problema a 1 dimensión que ampliamente mostraba más dispersión que el resto de las dimensiones. Luego, se aplica el algoritmo de aprendizaje Forest Random para realizar la clasificación definiendo el correspondiente conjunto de entrenamiento y 'testeo'. Por medio de las métricas accuracy y curva ROC se mide la capacidad de clasificación del algoritmo, encontrando buenos resultados para los features originales y no así para los features reducidos."
   ]
  }
 ],
 "metadata": {
  "kernelspec": {
   "display_name": "Python 3",
   "language": "python",
   "name": "python3"
  },
  "language_info": {
   "codemirror_mode": {
    "name": "ipython",
    "version": 3
   },
   "file_extension": ".py",
   "mimetype": "text/x-python",
   "name": "python",
   "nbconvert_exporter": "python",
   "pygments_lexer": "ipython3",
   "version": "3.8.3"
  }
 },
 "nbformat": 4,
 "nbformat_minor": 4
}
